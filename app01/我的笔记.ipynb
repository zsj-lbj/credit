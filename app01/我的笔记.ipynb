{
 "cells": [
  {
   "cell_type": "code",
   "execution_count": null,
   "metadata": {
    "collapsed": true
   },
   "outputs": [],
   "source": [
    "python manage.py startapp app名字手动创建app,\n",
    "\n",
    "{{变量 }}\n",
    "{%逻辑%}"
   ]
  },
  {
   "cell_type": "markdown",
   "source": [
    "过滤器：通过使用过滤其来改变数据显示方式\n",
    "过滤器的语法： {{ value|filter_name:参数 }}\n",
    "使用管道符\"|\"来应用过滤器。\n",
    "注意事项：\n",
    "（1）过滤器支持“链式”操作。即一个过滤器的输出作为另一个过滤器的输入。{{value|过滤器|过滤器}}\n",
    "（2)过滤器可以接受参数，例如：{{ sss|truncatewords:30 }}，这将显示sss的前30个词。\n",
    "(3)'|'左右没有空格没有空格没有空格\n",
    "django默认时区是UTC，不想用的话在settings里改TIME_ZONE"
   ],
   "metadata": {
    "collapsed": false
   }
  },
  {
   "cell_type": "markdown",
   "source": [
    "模板渲染在浏览器渲染之前，模板渲染就是字符串替换，\n",
    "<ul>\n",
    "    {% for h in list reversed %}    -反转输出顺序\n",
    "    <li>{{ forloop.counter }}---{{ h }}</li>\n",
    "    {% endfor %}\n",
    "\n",
    "\n",
    "</ul>"
   ],
   "metadata": {
    "collapsed": false
   }
  },
  {
   "cell_type": "markdown",
   "source": [
    "自定义标签或者过滤器\n",
    "1、在app01目录下创建mydefined python包,然后在settings里注册\n",
    "2、在mydefiend包里创建templatetags包，一定要是templatetags命名\n",
    "3、在templatetags里创建任意.py文件，然后写如下代码\n",
    "from django import template\n",
    "\n",
    "register = template.Library()#创建模板对象\n",
    "\n",
    "\n",
    "@register.simple_tag()\n",
    "# 这里最好使用simple_tag(),使用tag会很复杂\n",
    "def add(v1,v2):\n",
    "    return v1+v2\n",
    "@register.filter()\n",
    "def reversal(v1):\n",
    "    return v1[::-1]\n",
    " 4、html文件中使用{%load 过滤器名/标签名%}导入包，过滤器使用{% 过滤器 参数 参数%}——可以放无限个参数，\n",
    " 标签使用{{变量|过滤器 参数}}——只能加一个参数"
   ],
   "metadata": {
    "collapsed": false,
    "pycharm": {
     "name": "#%% md\n"
    }
   }
  },
  {
   "cell_type": "markdown",
   "source": [
    "模板继承\n",
    "1创建公用模板，在公用模板中把需要替换的地方用\n",
    "{% block name}\n",
    "{% endblock%}围起来\n",
    "2、{%extends '公共模板名.html'%}\n",
    "{% block name}\n",
    "当中写需要替换的内容\n",
    "{% endblock%}围起来\n",
    "3、如果需要保留模板中的内容，使用{{block.super}}\n",
    "\n"
   ],
   "metadata": {
    "collapsed": false
   }
  },
  {
   "cell_type": "markdown",
   "source": [
    "from django.utils.safestring import mark_safe\n",
    "mark_safe 跟过滤器safe有相同功能，用法为mark_safe(<a href=''>百度</a>)"
   ],
   "metadata": {
    "collapsed": false,
    "pycharm": {
     "name": "#%% md\n"
    }
   }
  },
  {
   "cell_type": "markdown",
   "source": [
    "静态文件写法\n",
    "1、<link rel=\"stylesheet\" href=\"/static/css/static.css\">\n",
    "2、在html中写{% load static%}  使用<link rel=\"stylesheet\" href=\"{% static 'css/static.css'%>\"\n"
   ],
   "metadata": {
    "collapsed": false
   }
  },
  {
   "cell_type": "markdown",
   "source": [
    "ORM创建表\n",
    "python manage.py makemigrations\n",
    "执行上述语句前必须在settings里注册应用\n",
    "python manage.py migrate"
   ],
   "metadata": {
    "collapsed": false
   }
  },
  {
   "cell_type": "markdown",
   "source": [
    "链接数据库\n",
    "1、在mysql里创建一个数据库\n",
    "2、      'default':{\n",
    "          'ENGING': 'django.db.backends.mysql',\n",
    "          'NAME':'enterprise',\n",
    "          'HOST':'127.0.0.1',\n",
    "          'PORT':3306,\n",
    "          'USER':'root',\n",
    "          'PASSWORD':'ZsJ19990420!'\n",
    "  }\n",
    "\n",
    "django_migrations表负责记录哪些migrations文件下的.py文件被执行过\n",
    "在E:\\python\\Lib\\site-packages\\django\\db\\backends\\base\\base.py中可以查看有哪些Field可使用\n"
   ],
   "metadata": {
    "collapsed": false
   }
  },
  {
   "cell_type": "markdown",
   "source": [
    "组件——组件就是一个html文件，其中封装了一些功能，比如一个导航栏，或者是一个左侧菜单栏，相当于我们\n",
    "将一些特定功能封装成了一个组件，将来任何html文件使用这些功能，可以直接引用\n",
    "引入组件{% include ‘zujian.htlm'%}\n",
    "\n",
    "inclusion_tag\n",
    "1、回复一个html页面，这个页面的视图函数里要有给出渲染数据\n",
    "{% load mytags %}\n",
    "\n",
    "{% show data %}——讲数据data交给mytags里的show()函数\n",
    "2、mytags里的show()函数被@inclusion_tagz装饰，然后渲染inclusion_tag里注册的‘zujian.html'"
   ],
   "metadata": {
    "collapsed": false
   }
  },
  {
   "cell_type": "markdown",
   "source": [
    "数据库新增\n",
    "1、from app01 import models\n",
    "obj = Book(括号里放要插入的内容\n",
    ")——实例化对象\n",
    "obj.save()\n",
    "\n",
    "2、obj = Book.object.create(括号里放要插入的内容)\n",
    "3、批量添加\n",
    "v1=[]\n",
    "for i in range(1,10):\n",
    "    v1= Book.object.create(括号里放要插入的内容)\n",
    "    v1 = v1.append(v1)\n",
    " models.Book.objects.bulk_create(v1)\n",
    "\n",
    " 数据查询\n",
    " models.Book.objects.all()查询出全部数据，是queryset对象，类似于一个列表\n",
    " models.Book.objects.get()结果只能有一条，结果是个模型类对象，用obj.price obj.pub_date跳巢用\n",
    " models.Book.objects.filter(id=5,publish='1')查询出全部数据，是queryset对象，类似于一个列表\n",
    " models.Book.objects.exclude(id=8)查询除了id=8的数据\n",
    " models.Book.objects.order_by('price','id')升序排列，返回queryset,降序排列就order_by(-price)\n",
    " models.Book.objects.all().count()\n",
    " models.Book.objects.all().values(‘id','price')只查询id，price字段，\n",
    " 返回的还是一个queryset，但是这个queryset是一个列表，列表每个元素是个字典，key是字段名\n",
    " models.Book.objects.all().values(‘id','price').distinct()去重\n",
    "\n",
    " 双下划线模糊查询\n",
    " models.Book.objets.filter(price__in=[100,12,30])price in any value of this array\n",
    " models.Book.objets.filter(price__range=[100,200])between 100 and 200\n",
    " models.Book.objets.filter(price__contains='hsy')包含‘hsy'字符\n",
    " models.Book.objets.filter(price__icontains='hsy')包含‘hsy'字符,不区分大小写\n",
    " models.Book.objets.filter(price__startswith='hsy')以‘hsy'开头\n",
    " models.Book.objets.filter(price__istartwith='hsy')以‘hsy'开头\n",
    " models.Book.objets.filter(price__endwith='hsy')以‘hsy'开头\n",
    " models.Book.objets.filter(price__isnull=True)以‘hsy'开头\n",
    "\n",
    "\n",
    "\n",
    "数据更新\n",
    "models.Book.objects.all().update()\n",
    "models.Book.objects.filter(查询条件）.update()\n",
    "models.Book.objects.get(查询条件）.update()是不行的，update不能调用模型类对象\n",
    "\n",
    "数据删除\n",
    "models.Book.objects.get().delete()\n",
    "models.Book.objects.all().delete()"
   ],
   "metadata": {
    "collapsed": false
   }
  },
  {
   "cell_type": "markdown",
   "source": [
    "url反向解析\n",
    "redirect(reverse(路径的别名),args=[1999,6,25]))无名分组用args传参\n",
    "redirect(reverse(路径的别名),kwargs={'year':1999,'month':6,'day':25}))无名分组用kwargs传参\n",
    "htlm 中的反向解析\n",
    "<form action={% url 'book_show' 2000 6 25%}></form>\n",
    "\n"
   ],
   "metadata": {
    "collapsed": false
   }
  },
  {
   "cell_type": "markdown",
   "source": [
    "创建表\n",
    "sex = models.Book.IntergerFiled(choices=((1,'男性'),(0,'女性')),default=1)\n",
    "obj = models.Book.objects.get(id=5)\n",
    "obj.get_sex_display()可以获取1或者0代表的字段“男性”或者“女性”\n",
    "birthday = models.DateTimeField(auto_now_add=True)添加记录时，自动加上当前时间\n",
    "birthday = models.DateTimeField(auto_now=True)添加记录时，自动加上当前时间，并且更新记录时，自动更新时间为当前时间\n",
    "但是用models.Book.objects.filter(id=1).update()是无效的，只有使用\n",
    "obj = models.Book.objects.filter(id=1)\n",
    "obj.title = '123'\n",
    "obj.save()才有用\n",
    "多表查询\n",
    "class hsy(models.Model):\n",
    "    name = models.CharField(max_length=32)\n",
    "    relationship = models.CharField(primary_key=True)\n",
    "\n",
    "class zsj(models.Model):\n",
    "    name = models.CharField(max_length=32)\n",
    "    relationship = models.CharField(primary_key=True)\n",
    "    foreign = models.ForeignKey(to='hsy',to_field='relationship',on_delete=models.CASCADE)\n"
   ],
   "metadata": {
    "collapsed": false
   }
  }
 ],
 "metadata": {
  "kernelspec": {
   "display_name": "Python 3",
   "language": "python",
   "name": "python3"
  },
  "language_info": {
   "codemirror_mode": {
    "name": "ipython",
    "version": 2
   },
   "file_extension": ".py",
   "mimetype": "text/x-python",
   "name": "python",
   "nbconvert_exporter": "python",
   "pygments_lexer": "ipython2",
   "version": "2.7.6"
  }
 },
 "nbformat": 4,
 "nbformat_minor": 0
}